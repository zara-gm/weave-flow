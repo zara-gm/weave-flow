{
 "cells": [
  {
   "cell_type": "markdown",
   "id": "3e4eb758",
   "metadata": {},
   "source": [
    "### Create an API session"
   ]
  },
  {
   "cell_type": "code",
   "execution_count": 13,
   "id": "d96cfcaf",
   "metadata": {},
   "outputs": [
    {
     "name": "stdout",
     "output_type": "stream",
     "text": [
      "{'organization': 'weavedemo', 'account': 'ioan', 'scope': '*', 'chainClientConfig': {'apiVersion': 1, 'seed': '1a2bac41a628fb7b54ca84bd3e1a2bac', 'privateKeyFile': '/app/config/node2.pvk', 'publicKeyFile': '/app/config/node2.pub', 'http': {'host': 'ethsf22.weavechain.com', 'port': 443, 'useHttps': True}}}\n",
      "{\"res\":\"ok\",\"data\":\"pong 1667307920813\"}\n"
     ]
    }
   ],
   "source": [
    "import pandas as pd\n",
    "\n",
    "from weaveapi.records import *\n",
    "from weaveapi.options import *\n",
    "from weaveapi.filter import *\n",
    "\n",
    "from weaveh import *\n",
    "\n",
    "WEAVE_CONFIG = \"config/demo_client_ethsf.config\"\n",
    "nodeApi, session = connect_weave_api(WEAVE_CONFIG)"
   ]
  },
  {
   "cell_type": "markdown",
   "id": "67a80c97",
   "metadata": {},
   "source": [
    "### Get directory table layout"
   ]
  },
  {
   "cell_type": "code",
   "execution_count": 59,
   "id": "33f04fc0",
   "metadata": {
    "scrolled": true
   },
   "outputs": [
    {
     "data": {
      "text/plain": [
       "[{'columnName': 'id',\n",
       "  'type': 'LONG',\n",
       "  'readTransform': 'NONE',\n",
       "  'isIndexed': True,\n",
       "  'isNullable': False,\n",
       "  'isUnique': False,\n",
       "  'isEncrypted': False,\n",
       "  'allowPlaintext': True},\n",
       " {'columnName': 'name_nickname',\n",
       "  'type': 'STRING',\n",
       "  'readTransform': 'NONE',\n",
       "  'isIndexed': False,\n",
       "  'isNullable': True,\n",
       "  'isUnique': False,\n",
       "  'isEncrypted': False,\n",
       "  'allowPlaintext': True},\n",
       " {'columnName': 'name_last',\n",
       "  'type': 'STRING',\n",
       "  'readTransform': 'NONE',\n",
       "  'isIndexed': False,\n",
       "  'isNullable': True,\n",
       "  'isUnique': False,\n",
       "  'isEncrypted': False,\n",
       "  'allowPlaintext': True},\n",
       " {'columnName': 'name_first',\n",
       "  'type': 'STRING',\n",
       "  'readTransform': 'NONE',\n",
       "  'isIndexed': False,\n",
       "  'isNullable': True,\n",
       "  'isUnique': False,\n",
       "  'isEncrypted': False,\n",
       "  'allowPlaintext': True},\n",
       " {'columnName': 'email',\n",
       "  'type': 'STRING',\n",
       "  'readTransform': 'NONE',\n",
       "  'isIndexed': False,\n",
       "  'isNullable': True,\n",
       "  'isUnique': False,\n",
       "  'isEncrypted': False,\n",
       "  'allowPlaintext': True},\n",
       " {'columnName': 'phone',\n",
       "  'type': 'STRING',\n",
       "  'readTransform': 'ERASURE',\n",
       "  'isIndexed': False,\n",
       "  'isNullable': True,\n",
       "  'isUnique': False,\n",
       "  'isEncrypted': False,\n",
       "  'allowPlaintext': True},\n",
       " {'columnName': 'addres_country',\n",
       "  'type': 'STRING',\n",
       "  'readTransform': 'NONE',\n",
       "  'isIndexed': False,\n",
       "  'isNullable': True,\n",
       "  'isUnique': False,\n",
       "  'isEncrypted': False,\n",
       "  'allowPlaintext': True},\n",
       " {'columnName': 'address_city',\n",
       "  'type': 'STRING',\n",
       "  'readTransform': 'ERASURE',\n",
       "  'isIndexed': False,\n",
       "  'isNullable': True,\n",
       "  'isUnique': False,\n",
       "  'isEncrypted': False,\n",
       "  'allowPlaintext': True},\n",
       " {'columnName': 'linkedin_url',\n",
       "  'type': 'STRING',\n",
       "  'readTransform': 'NONE',\n",
       "  'isIndexed': False,\n",
       "  'isNullable': True,\n",
       "  'isUnique': False,\n",
       "  'isEncrypted': False,\n",
       "  'allowPlaintext': True},\n",
       " {'columnName': 'discord_username',\n",
       "  'type': 'STRING',\n",
       "  'readTransform': 'NONE',\n",
       "  'isIndexed': False,\n",
       "  'isNullable': True,\n",
       "  'isUnique': False,\n",
       "  'isEncrypted': False,\n",
       "  'allowPlaintext': True},\n",
       " {'columnName': 'telegram_username',\n",
       "  'type': 'STRING',\n",
       "  'readTransform': 'NONE',\n",
       "  'isIndexed': False,\n",
       "  'isNullable': True,\n",
       "  'isUnique': False,\n",
       "  'isEncrypted': False,\n",
       "  'allowPlaintext': True},\n",
       " {'columnName': 'eth_wallet',\n",
       "  'type': 'STRING',\n",
       "  'readTransform': 'NONE',\n",
       "  'isIndexed': False,\n",
       "  'isNullable': True,\n",
       "  'isUnique': False,\n",
       "  'isEncrypted': False,\n",
       "  'allowPlaintext': True},\n",
       " {'columnName': 'birthday',\n",
       "  'type': 'STRING',\n",
       "  'readTransform': 'ERASURE',\n",
       "  'isIndexed': False,\n",
       "  'isNullable': True,\n",
       "  'isUnique': False,\n",
       "  'isEncrypted': False,\n",
       "  'allowPlaintext': True}]"
      ]
     },
     "execution_count": 59,
     "metadata": {},
     "output_type": "execute_result"
    }
   ],
   "source": [
    "scope = \"ethsf22\"\n",
    "table = \"directory\"\n",
    "\n",
    "reply = nodeApi.getTableDefinition(session, scope, table).get()\n",
    "#print(reply)\n",
    "layout = json.loads(reply[\"data\"])[\"layout\"]\n",
    "layout[\"columns\"]"
   ]
  },
  {
   "cell_type": "markdown",
   "id": "da734c69",
   "metadata": {},
   "source": [
    "### Mark few columns for erasure on Read"
   ]
  },
  {
   "cell_type": "code",
   "execution_count": 60,
   "id": "5be23548",
   "metadata": {},
   "outputs": [
    {
     "name": "stdout",
     "output_type": "stream",
     "text": [
      "{'res': 'ok', 'target': {'operationType': 'UPDATE_LAYOUT', 'organization': 'weavedemo', 'account': 'ioan', 'scope': 'ethsf22', 'table': 'directory'}}\n"
     ]
    }
   ],
   "source": [
    "newLayout = layout.copy()\n",
    "del newLayout[\"layout\"]\n",
    "del newLayout[\"indexes\"]\n",
    "del newLayout[\"columnNames\"]\n",
    "newLayout[\"columns\"] = { i[\"columnName\"]: i for i in layout[\"columns\"]}\n",
    "\n",
    "newLayout[\"columns\"][\"phone\"][\"readTransform\"] = \"ERASURE\"\n",
    "newLayout[\"columns\"][\"address_city\"][\"readTransform\"] = \"ERASURE\"\n",
    "newLayout[\"columns\"][\"birthday\"][\"readTransform\"] = \"ERASURE\"\n",
    "\n",
    "reply = nodeApi.updateLayout(session, scope, table, newLayout).get()\n",
    "print(reply)\n"
   ]
  },
  {
   "cell_type": "markdown",
   "id": "5a5b8d0c",
   "metadata": {},
   "source": [
    "### Check birthday has erasure"
   ]
  },
  {
   "cell_type": "code",
   "execution_count": 64,
   "id": "f670734c",
   "metadata": {},
   "outputs": [
    {
     "data": {
      "text/plain": [
       "{'columnName': 'birthday',\n",
       " 'type': 'STRING',\n",
       " 'readTransform': 'ERASURE',\n",
       " 'isIndexed': False,\n",
       " 'isNullable': True,\n",
       " 'isUnique': False,\n",
       " 'isEncrypted': False,\n",
       " 'allowPlaintext': True}"
      ]
     },
     "execution_count": 64,
     "metadata": {},
     "output_type": "execute_result"
    }
   ],
   "source": [
    "reply = nodeApi.getTableDefinition(session, scope, table).get()\n",
    "#print(reply)\n",
    "layout = json.loads(reply[\"data\"])[\"layout\"]\n",
    "layout[\"columns\"][-1]"
   ]
  },
  {
   "cell_type": "markdown",
   "id": "b1c4be2c",
   "metadata": {},
   "source": [
    "### Read records"
   ]
  },
  {
   "cell_type": "code",
   "execution_count": 69,
   "id": "cb2dd661",
   "metadata": {
    "scrolled": false
   },
   "outputs": [
    {
     "data": {
      "text/html": [
       "<div>\n",
       "<style scoped>\n",
       "    .dataframe tbody tr th:only-of-type {\n",
       "        vertical-align: middle;\n",
       "    }\n",
       "\n",
       "    .dataframe tbody tr th {\n",
       "        vertical-align: top;\n",
       "    }\n",
       "\n",
       "    .dataframe thead th {\n",
       "        text-align: right;\n",
       "    }\n",
       "</style>\n",
       "<table border=\"1\" class=\"dataframe\">\n",
       "  <thead>\n",
       "    <tr style=\"text-align: right;\">\n",
       "      <th></th>\n",
       "      <th>id</th>\n",
       "      <th>name_nickname</th>\n",
       "      <th>name_last</th>\n",
       "      <th>name_first</th>\n",
       "      <th>email</th>\n",
       "      <th>phone</th>\n",
       "      <th>addres_country</th>\n",
       "      <th>address_city</th>\n",
       "      <th>linkedin_url</th>\n",
       "      <th>discord_username</th>\n",
       "      <th>telegram_username</th>\n",
       "      <th>eth_wallet</th>\n",
       "      <th>birthday</th>\n",
       "    </tr>\n",
       "  </thead>\n",
       "  <tbody>\n",
       "    <tr>\n",
       "      <th>0</th>\n",
       "      <td>1</td>\n",
       "      <td>nickname</td>\n",
       "      <td>lastname</td>\n",
       "      <td>firstname</td>\n",
       "      <td>email@email.com</td>\n",
       "      <td></td>\n",
       "      <td>USA</td>\n",
       "      <td></td>\n",
       "      <td>https://linkedin.com/in/test</td>\n",
       "      <td>name#1234</td>\n",
       "      <td>@test</td>\n",
       "      <td>0x1234</td>\n",
       "      <td></td>\n",
       "    </tr>\n",
       "  </tbody>\n",
       "</table>\n",
       "</div>"
      ],
      "text/plain": [
       "  id name_nickname name_last name_first            email phone addres_country  \\\n",
       "0  1      nickname  lastname  firstname  email@email.com                  USA   \n",
       "\n",
       "  address_city                  linkedin_url discord_username  \\\n",
       "0               https://linkedin.com/in/test        name#1234   \n",
       "\n",
       "  telegram_username eth_wallet birthday  \n",
       "0             @test     0x1234           "
      ]
     },
     "execution_count": 69,
     "metadata": {},
     "output_type": "execute_result"
    }
   ],
   "source": [
    "reply = nodeApi.read(session, scope, table, None, READ_DEFAULT_NO_CHAIN).get()\n",
    "#raw = nodeApi.download(session, scope, table, None, \"csv\", READ_DEFAULT).get()\n",
    "#print(reply)\n",
    "df = pd.DataFrame(reply[\"data\"])\n",
    "\n",
    "df.head()"
   ]
  },
  {
   "cell_type": "markdown",
   "id": "23452aa5",
   "metadata": {},
   "source": [
    "### Compute average age with (degenerated 1:1) MPC"
   ]
  },
  {
   "cell_type": "code",
   "execution_count": 80,
   "id": "3827807c",
   "metadata": {},
   "outputs": [
    {
     "name": "stdout",
     "output_type": "stream",
     "text": [
      "Average age: 32.83393707138693\n"
     ]
    }
   ],
   "source": [
    "import time\n",
    "\n",
    "nodes = ALL_ACTIVE_NODES\n",
    "#nodes = [ \"weavejjf8yGD2Gez24EtKPVFSmX7ZmR4itmF4BU5p1RLqt6Vn\", \"weavexy5oNNScffcJBPTxeTCc4dE5XZwSYEMh9XsqLSMNTPVq\" ]\n",
    "\n",
    "algo = \"mean\"\n",
    "\n",
    "reply = nodeApi.mpc(session, scope, table, algo, [ \"birthday\" ], None, MPCOptions(False, 30, nodes)).get()\n",
    "\n",
    "#returned value is dates average in unix timestamp, transforming it to (approximate) years\n",
    "avg = round(time.time() * 1000) - float(reply[\"data\"])\n",
    "days = avg / (24 * 3600 * 1000)\n",
    "\n",
    "print(\"Average age:\", days / 365.25)"
   ]
  }
 ],
 "metadata": {
  "kernelspec": {
   "display_name": "Python 3 (ipykernel)",
   "language": "python",
   "name": "python3"
  },
  "language_info": {
   "codemirror_mode": {
    "name": "ipython",
    "version": 3
   },
   "file_extension": ".py",
   "mimetype": "text/x-python",
   "name": "python",
   "nbconvert_exporter": "python",
   "pygments_lexer": "ipython3",
   "version": "3.9.13"
  }
 },
 "nbformat": 4,
 "nbformat_minor": 5
}
